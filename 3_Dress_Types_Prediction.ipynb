{
  "nbformat": 4,
  "nbformat_minor": 0,
  "metadata": {
    "colab": {
      "name": "2_Dress_Types_Prediction.ipynb",
      "provenance": [],
      "collapsed_sections": [],
      "include_colab_link": true
    },
    "kernelspec": {
      "name": "python3",
      "display_name": "Python 3"
    },
    "language_info": {
      "name": "python"
    },
    "widgets": {
      "application/vnd.jupyter.widget-state+json": {
        "ef3b306510dd4bba9bddd216fb736643": {
          "model_module": "@jupyter-widgets/controls",
          "model_name": "HBoxModel",
          "model_module_version": "1.5.0",
          "state": {
            "_dom_classes": [],
            "_model_module": "@jupyter-widgets/controls",
            "_model_module_version": "1.5.0",
            "_model_name": "HBoxModel",
            "_view_count": null,
            "_view_module": "@jupyter-widgets/controls",
            "_view_module_version": "1.5.0",
            "_view_name": "HBoxView",
            "box_style": "",
            "children": [
              "IPY_MODEL_0de6cf0a89734846b614bde9b1e91638",
              "IPY_MODEL_d8da213517fc4b948a7cd9ac424e05e2",
              "IPY_MODEL_1c79c5b2a0c748489ef45c7b3b51b301"
            ],
            "layout": "IPY_MODEL_2f39aed5e4ec49adb927666f33c78f58"
          }
        },
        "0de6cf0a89734846b614bde9b1e91638": {
          "model_module": "@jupyter-widgets/controls",
          "model_name": "HTMLModel",
          "model_module_version": "1.5.0",
          "state": {
            "_dom_classes": [],
            "_model_module": "@jupyter-widgets/controls",
            "_model_module_version": "1.5.0",
            "_model_name": "HTMLModel",
            "_view_count": null,
            "_view_module": "@jupyter-widgets/controls",
            "_view_module_version": "1.5.0",
            "_view_name": "HTMLView",
            "description": "",
            "description_tooltip": null,
            "layout": "IPY_MODEL_421903f91f174fdaa96fdd28c7eb70ce",
            "placeholder": "​",
            "style": "IPY_MODEL_138d4922167c482b88148c1b0e1062ef",
            "value": ""
          }
        },
        "d8da213517fc4b948a7cd9ac424e05e2": {
          "model_module": "@jupyter-widgets/controls",
          "model_name": "FloatProgressModel",
          "model_module_version": "1.5.0",
          "state": {
            "_dom_classes": [],
            "_model_module": "@jupyter-widgets/controls",
            "_model_module_version": "1.5.0",
            "_model_name": "FloatProgressModel",
            "_view_count": null,
            "_view_module": "@jupyter-widgets/controls",
            "_view_module_version": "1.5.0",
            "_view_name": "ProgressView",
            "bar_style": "success",
            "description": "",
            "description_tooltip": null,
            "layout": "IPY_MODEL_a2ab8fbc17b84115acedf052d9ec0a67",
            "max": 26421880,
            "min": 0,
            "orientation": "horizontal",
            "style": "IPY_MODEL_e1771c8750a643c59d155ea8fbc050c2",
            "value": 26421880
          }
        },
        "1c79c5b2a0c748489ef45c7b3b51b301": {
          "model_module": "@jupyter-widgets/controls",
          "model_name": "HTMLModel",
          "model_module_version": "1.5.0",
          "state": {
            "_dom_classes": [],
            "_model_module": "@jupyter-widgets/controls",
            "_model_module_version": "1.5.0",
            "_model_name": "HTMLModel",
            "_view_count": null,
            "_view_module": "@jupyter-widgets/controls",
            "_view_module_version": "1.5.0",
            "_view_name": "HTMLView",
            "description": "",
            "description_tooltip": null,
            "layout": "IPY_MODEL_9ac566750bc84355be4bd56a32595a04",
            "placeholder": "​",
            "style": "IPY_MODEL_37b5a18aaeca4da5b47425be5fc9e2cb",
            "value": " 26422272/? [00:01&lt;00:00, 22871320.32it/s]"
          }
        },
        "2f39aed5e4ec49adb927666f33c78f58": {
          "model_module": "@jupyter-widgets/base",
          "model_name": "LayoutModel",
          "model_module_version": "1.2.0",
          "state": {
            "_model_module": "@jupyter-widgets/base",
            "_model_module_version": "1.2.0",
            "_model_name": "LayoutModel",
            "_view_count": null,
            "_view_module": "@jupyter-widgets/base",
            "_view_module_version": "1.2.0",
            "_view_name": "LayoutView",
            "align_content": null,
            "align_items": null,
            "align_self": null,
            "border": null,
            "bottom": null,
            "display": null,
            "flex": null,
            "flex_flow": null,
            "grid_area": null,
            "grid_auto_columns": null,
            "grid_auto_flow": null,
            "grid_auto_rows": null,
            "grid_column": null,
            "grid_gap": null,
            "grid_row": null,
            "grid_template_areas": null,
            "grid_template_columns": null,
            "grid_template_rows": null,
            "height": null,
            "justify_content": null,
            "justify_items": null,
            "left": null,
            "margin": null,
            "max_height": null,
            "max_width": null,
            "min_height": null,
            "min_width": null,
            "object_fit": null,
            "object_position": null,
            "order": null,
            "overflow": null,
            "overflow_x": null,
            "overflow_y": null,
            "padding": null,
            "right": null,
            "top": null,
            "visibility": null,
            "width": null
          }
        },
        "421903f91f174fdaa96fdd28c7eb70ce": {
          "model_module": "@jupyter-widgets/base",
          "model_name": "LayoutModel",
          "model_module_version": "1.2.0",
          "state": {
            "_model_module": "@jupyter-widgets/base",
            "_model_module_version": "1.2.0",
            "_model_name": "LayoutModel",
            "_view_count": null,
            "_view_module": "@jupyter-widgets/base",
            "_view_module_version": "1.2.0",
            "_view_name": "LayoutView",
            "align_content": null,
            "align_items": null,
            "align_self": null,
            "border": null,
            "bottom": null,
            "display": null,
            "flex": null,
            "flex_flow": null,
            "grid_area": null,
            "grid_auto_columns": null,
            "grid_auto_flow": null,
            "grid_auto_rows": null,
            "grid_column": null,
            "grid_gap": null,
            "grid_row": null,
            "grid_template_areas": null,
            "grid_template_columns": null,
            "grid_template_rows": null,
            "height": null,
            "justify_content": null,
            "justify_items": null,
            "left": null,
            "margin": null,
            "max_height": null,
            "max_width": null,
            "min_height": null,
            "min_width": null,
            "object_fit": null,
            "object_position": null,
            "order": null,
            "overflow": null,
            "overflow_x": null,
            "overflow_y": null,
            "padding": null,
            "right": null,
            "top": null,
            "visibility": null,
            "width": null
          }
        },
        "138d4922167c482b88148c1b0e1062ef": {
          "model_module": "@jupyter-widgets/controls",
          "model_name": "DescriptionStyleModel",
          "model_module_version": "1.5.0",
          "state": {
            "_model_module": "@jupyter-widgets/controls",
            "_model_module_version": "1.5.0",
            "_model_name": "DescriptionStyleModel",
            "_view_count": null,
            "_view_module": "@jupyter-widgets/base",
            "_view_module_version": "1.2.0",
            "_view_name": "StyleView",
            "description_width": ""
          }
        },
        "a2ab8fbc17b84115acedf052d9ec0a67": {
          "model_module": "@jupyter-widgets/base",
          "model_name": "LayoutModel",
          "model_module_version": "1.2.0",
          "state": {
            "_model_module": "@jupyter-widgets/base",
            "_model_module_version": "1.2.0",
            "_model_name": "LayoutModel",
            "_view_count": null,
            "_view_module": "@jupyter-widgets/base",
            "_view_module_version": "1.2.0",
            "_view_name": "LayoutView",
            "align_content": null,
            "align_items": null,
            "align_self": null,
            "border": null,
            "bottom": null,
            "display": null,
            "flex": null,
            "flex_flow": null,
            "grid_area": null,
            "grid_auto_columns": null,
            "grid_auto_flow": null,
            "grid_auto_rows": null,
            "grid_column": null,
            "grid_gap": null,
            "grid_row": null,
            "grid_template_areas": null,
            "grid_template_columns": null,
            "grid_template_rows": null,
            "height": null,
            "justify_content": null,
            "justify_items": null,
            "left": null,
            "margin": null,
            "max_height": null,
            "max_width": null,
            "min_height": null,
            "min_width": null,
            "object_fit": null,
            "object_position": null,
            "order": null,
            "overflow": null,
            "overflow_x": null,
            "overflow_y": null,
            "padding": null,
            "right": null,
            "top": null,
            "visibility": null,
            "width": null
          }
        },
        "e1771c8750a643c59d155ea8fbc050c2": {
          "model_module": "@jupyter-widgets/controls",
          "model_name": "ProgressStyleModel",
          "model_module_version": "1.5.0",
          "state": {
            "_model_module": "@jupyter-widgets/controls",
            "_model_module_version": "1.5.0",
            "_model_name": "ProgressStyleModel",
            "_view_count": null,
            "_view_module": "@jupyter-widgets/base",
            "_view_module_version": "1.2.0",
            "_view_name": "StyleView",
            "bar_color": null,
            "description_width": ""
          }
        },
        "9ac566750bc84355be4bd56a32595a04": {
          "model_module": "@jupyter-widgets/base",
          "model_name": "LayoutModel",
          "model_module_version": "1.2.0",
          "state": {
            "_model_module": "@jupyter-widgets/base",
            "_model_module_version": "1.2.0",
            "_model_name": "LayoutModel",
            "_view_count": null,
            "_view_module": "@jupyter-widgets/base",
            "_view_module_version": "1.2.0",
            "_view_name": "LayoutView",
            "align_content": null,
            "align_items": null,
            "align_self": null,
            "border": null,
            "bottom": null,
            "display": null,
            "flex": null,
            "flex_flow": null,
            "grid_area": null,
            "grid_auto_columns": null,
            "grid_auto_flow": null,
            "grid_auto_rows": null,
            "grid_column": null,
            "grid_gap": null,
            "grid_row": null,
            "grid_template_areas": null,
            "grid_template_columns": null,
            "grid_template_rows": null,
            "height": null,
            "justify_content": null,
            "justify_items": null,
            "left": null,
            "margin": null,
            "max_height": null,
            "max_width": null,
            "min_height": null,
            "min_width": null,
            "object_fit": null,
            "object_position": null,
            "order": null,
            "overflow": null,
            "overflow_x": null,
            "overflow_y": null,
            "padding": null,
            "right": null,
            "top": null,
            "visibility": null,
            "width": null
          }
        },
        "37b5a18aaeca4da5b47425be5fc9e2cb": {
          "model_module": "@jupyter-widgets/controls",
          "model_name": "DescriptionStyleModel",
          "model_module_version": "1.5.0",
          "state": {
            "_model_module": "@jupyter-widgets/controls",
            "_model_module_version": "1.5.0",
            "_model_name": "DescriptionStyleModel",
            "_view_count": null,
            "_view_module": "@jupyter-widgets/base",
            "_view_module_version": "1.2.0",
            "_view_name": "StyleView",
            "description_width": ""
          }
        },
        "26e9208153a6443090f3b5864b9b1623": {
          "model_module": "@jupyter-widgets/controls",
          "model_name": "HBoxModel",
          "model_module_version": "1.5.0",
          "state": {
            "_dom_classes": [],
            "_model_module": "@jupyter-widgets/controls",
            "_model_module_version": "1.5.0",
            "_model_name": "HBoxModel",
            "_view_count": null,
            "_view_module": "@jupyter-widgets/controls",
            "_view_module_version": "1.5.0",
            "_view_name": "HBoxView",
            "box_style": "",
            "children": [
              "IPY_MODEL_768f7c0a618641578f02625b6860b036",
              "IPY_MODEL_a8db3793ef214b41b51f5cb4aebba78b",
              "IPY_MODEL_68919c85097041fca6cfc054501a4e09"
            ],
            "layout": "IPY_MODEL_1becc33d627440318216307cf601433b"
          }
        },
        "768f7c0a618641578f02625b6860b036": {
          "model_module": "@jupyter-widgets/controls",
          "model_name": "HTMLModel",
          "model_module_version": "1.5.0",
          "state": {
            "_dom_classes": [],
            "_model_module": "@jupyter-widgets/controls",
            "_model_module_version": "1.5.0",
            "_model_name": "HTMLModel",
            "_view_count": null,
            "_view_module": "@jupyter-widgets/controls",
            "_view_module_version": "1.5.0",
            "_view_name": "HTMLView",
            "description": "",
            "description_tooltip": null,
            "layout": "IPY_MODEL_f51b2362f3e945b590120d06e832ce2a",
            "placeholder": "​",
            "style": "IPY_MODEL_505f6d5deda34c6c82a1b3941f090c67",
            "value": ""
          }
        },
        "a8db3793ef214b41b51f5cb4aebba78b": {
          "model_module": "@jupyter-widgets/controls",
          "model_name": "FloatProgressModel",
          "model_module_version": "1.5.0",
          "state": {
            "_dom_classes": [],
            "_model_module": "@jupyter-widgets/controls",
            "_model_module_version": "1.5.0",
            "_model_name": "FloatProgressModel",
            "_view_count": null,
            "_view_module": "@jupyter-widgets/controls",
            "_view_module_version": "1.5.0",
            "_view_name": "ProgressView",
            "bar_style": "success",
            "description": "",
            "description_tooltip": null,
            "layout": "IPY_MODEL_819e3516f90e477bb91fdcd0920913c5",
            "max": 29515,
            "min": 0,
            "orientation": "horizontal",
            "style": "IPY_MODEL_51b554ceb32440c38214e6587279be0e",
            "value": 29515
          }
        },
        "68919c85097041fca6cfc054501a4e09": {
          "model_module": "@jupyter-widgets/controls",
          "model_name": "HTMLModel",
          "model_module_version": "1.5.0",
          "state": {
            "_dom_classes": [],
            "_model_module": "@jupyter-widgets/controls",
            "_model_module_version": "1.5.0",
            "_model_name": "HTMLModel",
            "_view_count": null,
            "_view_module": "@jupyter-widgets/controls",
            "_view_module_version": "1.5.0",
            "_view_name": "HTMLView",
            "description": "",
            "description_tooltip": null,
            "layout": "IPY_MODEL_e7e65d817b2b4ed7833b0c5cac790649",
            "placeholder": "​",
            "style": "IPY_MODEL_e3e093750ead4927bb74f9043e78944d",
            "value": " 29696/? [00:00&lt;00:00, 134385.11it/s]"
          }
        },
        "1becc33d627440318216307cf601433b": {
          "model_module": "@jupyter-widgets/base",
          "model_name": "LayoutModel",
          "model_module_version": "1.2.0",
          "state": {
            "_model_module": "@jupyter-widgets/base",
            "_model_module_version": "1.2.0",
            "_model_name": "LayoutModel",
            "_view_count": null,
            "_view_module": "@jupyter-widgets/base",
            "_view_module_version": "1.2.0",
            "_view_name": "LayoutView",
            "align_content": null,
            "align_items": null,
            "align_self": null,
            "border": null,
            "bottom": null,
            "display": null,
            "flex": null,
            "flex_flow": null,
            "grid_area": null,
            "grid_auto_columns": null,
            "grid_auto_flow": null,
            "grid_auto_rows": null,
            "grid_column": null,
            "grid_gap": null,
            "grid_row": null,
            "grid_template_areas": null,
            "grid_template_columns": null,
            "grid_template_rows": null,
            "height": null,
            "justify_content": null,
            "justify_items": null,
            "left": null,
            "margin": null,
            "max_height": null,
            "max_width": null,
            "min_height": null,
            "min_width": null,
            "object_fit": null,
            "object_position": null,
            "order": null,
            "overflow": null,
            "overflow_x": null,
            "overflow_y": null,
            "padding": null,
            "right": null,
            "top": null,
            "visibility": null,
            "width": null
          }
        },
        "f51b2362f3e945b590120d06e832ce2a": {
          "model_module": "@jupyter-widgets/base",
          "model_name": "LayoutModel",
          "model_module_version": "1.2.0",
          "state": {
            "_model_module": "@jupyter-widgets/base",
            "_model_module_version": "1.2.0",
            "_model_name": "LayoutModel",
            "_view_count": null,
            "_view_module": "@jupyter-widgets/base",
            "_view_module_version": "1.2.0",
            "_view_name": "LayoutView",
            "align_content": null,
            "align_items": null,
            "align_self": null,
            "border": null,
            "bottom": null,
            "display": null,
            "flex": null,
            "flex_flow": null,
            "grid_area": null,
            "grid_auto_columns": null,
            "grid_auto_flow": null,
            "grid_auto_rows": null,
            "grid_column": null,
            "grid_gap": null,
            "grid_row": null,
            "grid_template_areas": null,
            "grid_template_columns": null,
            "grid_template_rows": null,
            "height": null,
            "justify_content": null,
            "justify_items": null,
            "left": null,
            "margin": null,
            "max_height": null,
            "max_width": null,
            "min_height": null,
            "min_width": null,
            "object_fit": null,
            "object_position": null,
            "order": null,
            "overflow": null,
            "overflow_x": null,
            "overflow_y": null,
            "padding": null,
            "right": null,
            "top": null,
            "visibility": null,
            "width": null
          }
        },
        "505f6d5deda34c6c82a1b3941f090c67": {
          "model_module": "@jupyter-widgets/controls",
          "model_name": "DescriptionStyleModel",
          "model_module_version": "1.5.0",
          "state": {
            "_model_module": "@jupyter-widgets/controls",
            "_model_module_version": "1.5.0",
            "_model_name": "DescriptionStyleModel",
            "_view_count": null,
            "_view_module": "@jupyter-widgets/base",
            "_view_module_version": "1.2.0",
            "_view_name": "StyleView",
            "description_width": ""
          }
        },
        "819e3516f90e477bb91fdcd0920913c5": {
          "model_module": "@jupyter-widgets/base",
          "model_name": "LayoutModel",
          "model_module_version": "1.2.0",
          "state": {
            "_model_module": "@jupyter-widgets/base",
            "_model_module_version": "1.2.0",
            "_model_name": "LayoutModel",
            "_view_count": null,
            "_view_module": "@jupyter-widgets/base",
            "_view_module_version": "1.2.0",
            "_view_name": "LayoutView",
            "align_content": null,
            "align_items": null,
            "align_self": null,
            "border": null,
            "bottom": null,
            "display": null,
            "flex": null,
            "flex_flow": null,
            "grid_area": null,
            "grid_auto_columns": null,
            "grid_auto_flow": null,
            "grid_auto_rows": null,
            "grid_column": null,
            "grid_gap": null,
            "grid_row": null,
            "grid_template_areas": null,
            "grid_template_columns": null,
            "grid_template_rows": null,
            "height": null,
            "justify_content": null,
            "justify_items": null,
            "left": null,
            "margin": null,
            "max_height": null,
            "max_width": null,
            "min_height": null,
            "min_width": null,
            "object_fit": null,
            "object_position": null,
            "order": null,
            "overflow": null,
            "overflow_x": null,
            "overflow_y": null,
            "padding": null,
            "right": null,
            "top": null,
            "visibility": null,
            "width": null
          }
        },
        "51b554ceb32440c38214e6587279be0e": {
          "model_module": "@jupyter-widgets/controls",
          "model_name": "ProgressStyleModel",
          "model_module_version": "1.5.0",
          "state": {
            "_model_module": "@jupyter-widgets/controls",
            "_model_module_version": "1.5.0",
            "_model_name": "ProgressStyleModel",
            "_view_count": null,
            "_view_module": "@jupyter-widgets/base",
            "_view_module_version": "1.2.0",
            "_view_name": "StyleView",
            "bar_color": null,
            "description_width": ""
          }
        },
        "e7e65d817b2b4ed7833b0c5cac790649": {
          "model_module": "@jupyter-widgets/base",
          "model_name": "LayoutModel",
          "model_module_version": "1.2.0",
          "state": {
            "_model_module": "@jupyter-widgets/base",
            "_model_module_version": "1.2.0",
            "_model_name": "LayoutModel",
            "_view_count": null,
            "_view_module": "@jupyter-widgets/base",
            "_view_module_version": "1.2.0",
            "_view_name": "LayoutView",
            "align_content": null,
            "align_items": null,
            "align_self": null,
            "border": null,
            "bottom": null,
            "display": null,
            "flex": null,
            "flex_flow": null,
            "grid_area": null,
            "grid_auto_columns": null,
            "grid_auto_flow": null,
            "grid_auto_rows": null,
            "grid_column": null,
            "grid_gap": null,
            "grid_row": null,
            "grid_template_areas": null,
            "grid_template_columns": null,
            "grid_template_rows": null,
            "height": null,
            "justify_content": null,
            "justify_items": null,
            "left": null,
            "margin": null,
            "max_height": null,
            "max_width": null,
            "min_height": null,
            "min_width": null,
            "object_fit": null,
            "object_position": null,
            "order": null,
            "overflow": null,
            "overflow_x": null,
            "overflow_y": null,
            "padding": null,
            "right": null,
            "top": null,
            "visibility": null,
            "width": null
          }
        },
        "e3e093750ead4927bb74f9043e78944d": {
          "model_module": "@jupyter-widgets/controls",
          "model_name": "DescriptionStyleModel",
          "model_module_version": "1.5.0",
          "state": {
            "_model_module": "@jupyter-widgets/controls",
            "_model_module_version": "1.5.0",
            "_model_name": "DescriptionStyleModel",
            "_view_count": null,
            "_view_module": "@jupyter-widgets/base",
            "_view_module_version": "1.2.0",
            "_view_name": "StyleView",
            "description_width": ""
          }
        },
        "5d86120e2fc34b09804c458c5e245d7d": {
          "model_module": "@jupyter-widgets/controls",
          "model_name": "HBoxModel",
          "model_module_version": "1.5.0",
          "state": {
            "_dom_classes": [],
            "_model_module": "@jupyter-widgets/controls",
            "_model_module_version": "1.5.0",
            "_model_name": "HBoxModel",
            "_view_count": null,
            "_view_module": "@jupyter-widgets/controls",
            "_view_module_version": "1.5.0",
            "_view_name": "HBoxView",
            "box_style": "",
            "children": [
              "IPY_MODEL_0328ba219f6848edb27d798917577cc2",
              "IPY_MODEL_024b3a46c4ca46d596d8052e8c2b97dd",
              "IPY_MODEL_cbf163285f9f4c768c3ae521196abe08"
            ],
            "layout": "IPY_MODEL_35e5d8dd7f4542fab0545a864ecdfaa9"
          }
        },
        "0328ba219f6848edb27d798917577cc2": {
          "model_module": "@jupyter-widgets/controls",
          "model_name": "HTMLModel",
          "model_module_version": "1.5.0",
          "state": {
            "_dom_classes": [],
            "_model_module": "@jupyter-widgets/controls",
            "_model_module_version": "1.5.0",
            "_model_name": "HTMLModel",
            "_view_count": null,
            "_view_module": "@jupyter-widgets/controls",
            "_view_module_version": "1.5.0",
            "_view_name": "HTMLView",
            "description": "",
            "description_tooltip": null,
            "layout": "IPY_MODEL_12d847377e244148ac762be203023f05",
            "placeholder": "​",
            "style": "IPY_MODEL_30457c0d03a3403983018fc2cf3592f1",
            "value": ""
          }
        },
        "024b3a46c4ca46d596d8052e8c2b97dd": {
          "model_module": "@jupyter-widgets/controls",
          "model_name": "FloatProgressModel",
          "model_module_version": "1.5.0",
          "state": {
            "_dom_classes": [],
            "_model_module": "@jupyter-widgets/controls",
            "_model_module_version": "1.5.0",
            "_model_name": "FloatProgressModel",
            "_view_count": null,
            "_view_module": "@jupyter-widgets/controls",
            "_view_module_version": "1.5.0",
            "_view_name": "ProgressView",
            "bar_style": "success",
            "description": "",
            "description_tooltip": null,
            "layout": "IPY_MODEL_6b37ea174225481d9d4ecb4019efed00",
            "max": 4422102,
            "min": 0,
            "orientation": "horizontal",
            "style": "IPY_MODEL_008da6cb54cf477aab94a21490493d82",
            "value": 4422102
          }
        },
        "cbf163285f9f4c768c3ae521196abe08": {
          "model_module": "@jupyter-widgets/controls",
          "model_name": "HTMLModel",
          "model_module_version": "1.5.0",
          "state": {
            "_dom_classes": [],
            "_model_module": "@jupyter-widgets/controls",
            "_model_module_version": "1.5.0",
            "_model_name": "HTMLModel",
            "_view_count": null,
            "_view_module": "@jupyter-widgets/controls",
            "_view_module_version": "1.5.0",
            "_view_name": "HTMLView",
            "description": "",
            "description_tooltip": null,
            "layout": "IPY_MODEL_a7713c9d32a145d69e6e0fce241bc66e",
            "placeholder": "​",
            "style": "IPY_MODEL_4407f9e80f2d4de7b1d95712cf276a52",
            "value": " 4422656/? [00:00&lt;00:00, 8749884.87it/s]"
          }
        },
        "35e5d8dd7f4542fab0545a864ecdfaa9": {
          "model_module": "@jupyter-widgets/base",
          "model_name": "LayoutModel",
          "model_module_version": "1.2.0",
          "state": {
            "_model_module": "@jupyter-widgets/base",
            "_model_module_version": "1.2.0",
            "_model_name": "LayoutModel",
            "_view_count": null,
            "_view_module": "@jupyter-widgets/base",
            "_view_module_version": "1.2.0",
            "_view_name": "LayoutView",
            "align_content": null,
            "align_items": null,
            "align_self": null,
            "border": null,
            "bottom": null,
            "display": null,
            "flex": null,
            "flex_flow": null,
            "grid_area": null,
            "grid_auto_columns": null,
            "grid_auto_flow": null,
            "grid_auto_rows": null,
            "grid_column": null,
            "grid_gap": null,
            "grid_row": null,
            "grid_template_areas": null,
            "grid_template_columns": null,
            "grid_template_rows": null,
            "height": null,
            "justify_content": null,
            "justify_items": null,
            "left": null,
            "margin": null,
            "max_height": null,
            "max_width": null,
            "min_height": null,
            "min_width": null,
            "object_fit": null,
            "object_position": null,
            "order": null,
            "overflow": null,
            "overflow_x": null,
            "overflow_y": null,
            "padding": null,
            "right": null,
            "top": null,
            "visibility": null,
            "width": null
          }
        },
        "12d847377e244148ac762be203023f05": {
          "model_module": "@jupyter-widgets/base",
          "model_name": "LayoutModel",
          "model_module_version": "1.2.0",
          "state": {
            "_model_module": "@jupyter-widgets/base",
            "_model_module_version": "1.2.0",
            "_model_name": "LayoutModel",
            "_view_count": null,
            "_view_module": "@jupyter-widgets/base",
            "_view_module_version": "1.2.0",
            "_view_name": "LayoutView",
            "align_content": null,
            "align_items": null,
            "align_self": null,
            "border": null,
            "bottom": null,
            "display": null,
            "flex": null,
            "flex_flow": null,
            "grid_area": null,
            "grid_auto_columns": null,
            "grid_auto_flow": null,
            "grid_auto_rows": null,
            "grid_column": null,
            "grid_gap": null,
            "grid_row": null,
            "grid_template_areas": null,
            "grid_template_columns": null,
            "grid_template_rows": null,
            "height": null,
            "justify_content": null,
            "justify_items": null,
            "left": null,
            "margin": null,
            "max_height": null,
            "max_width": null,
            "min_height": null,
            "min_width": null,
            "object_fit": null,
            "object_position": null,
            "order": null,
            "overflow": null,
            "overflow_x": null,
            "overflow_y": null,
            "padding": null,
            "right": null,
            "top": null,
            "visibility": null,
            "width": null
          }
        },
        "30457c0d03a3403983018fc2cf3592f1": {
          "model_module": "@jupyter-widgets/controls",
          "model_name": "DescriptionStyleModel",
          "model_module_version": "1.5.0",
          "state": {
            "_model_module": "@jupyter-widgets/controls",
            "_model_module_version": "1.5.0",
            "_model_name": "DescriptionStyleModel",
            "_view_count": null,
            "_view_module": "@jupyter-widgets/base",
            "_view_module_version": "1.2.0",
            "_view_name": "StyleView",
            "description_width": ""
          }
        },
        "6b37ea174225481d9d4ecb4019efed00": {
          "model_module": "@jupyter-widgets/base",
          "model_name": "LayoutModel",
          "model_module_version": "1.2.0",
          "state": {
            "_model_module": "@jupyter-widgets/base",
            "_model_module_version": "1.2.0",
            "_model_name": "LayoutModel",
            "_view_count": null,
            "_view_module": "@jupyter-widgets/base",
            "_view_module_version": "1.2.0",
            "_view_name": "LayoutView",
            "align_content": null,
            "align_items": null,
            "align_self": null,
            "border": null,
            "bottom": null,
            "display": null,
            "flex": null,
            "flex_flow": null,
            "grid_area": null,
            "grid_auto_columns": null,
            "grid_auto_flow": null,
            "grid_auto_rows": null,
            "grid_column": null,
            "grid_gap": null,
            "grid_row": null,
            "grid_template_areas": null,
            "grid_template_columns": null,
            "grid_template_rows": null,
            "height": null,
            "justify_content": null,
            "justify_items": null,
            "left": null,
            "margin": null,
            "max_height": null,
            "max_width": null,
            "min_height": null,
            "min_width": null,
            "object_fit": null,
            "object_position": null,
            "order": null,
            "overflow": null,
            "overflow_x": null,
            "overflow_y": null,
            "padding": null,
            "right": null,
            "top": null,
            "visibility": null,
            "width": null
          }
        },
        "008da6cb54cf477aab94a21490493d82": {
          "model_module": "@jupyter-widgets/controls",
          "model_name": "ProgressStyleModel",
          "model_module_version": "1.5.0",
          "state": {
            "_model_module": "@jupyter-widgets/controls",
            "_model_module_version": "1.5.0",
            "_model_name": "ProgressStyleModel",
            "_view_count": null,
            "_view_module": "@jupyter-widgets/base",
            "_view_module_version": "1.2.0",
            "_view_name": "StyleView",
            "bar_color": null,
            "description_width": ""
          }
        },
        "a7713c9d32a145d69e6e0fce241bc66e": {
          "model_module": "@jupyter-widgets/base",
          "model_name": "LayoutModel",
          "model_module_version": "1.2.0",
          "state": {
            "_model_module": "@jupyter-widgets/base",
            "_model_module_version": "1.2.0",
            "_model_name": "LayoutModel",
            "_view_count": null,
            "_view_module": "@jupyter-widgets/base",
            "_view_module_version": "1.2.0",
            "_view_name": "LayoutView",
            "align_content": null,
            "align_items": null,
            "align_self": null,
            "border": null,
            "bottom": null,
            "display": null,
            "flex": null,
            "flex_flow": null,
            "grid_area": null,
            "grid_auto_columns": null,
            "grid_auto_flow": null,
            "grid_auto_rows": null,
            "grid_column": null,
            "grid_gap": null,
            "grid_row": null,
            "grid_template_areas": null,
            "grid_template_columns": null,
            "grid_template_rows": null,
            "height": null,
            "justify_content": null,
            "justify_items": null,
            "left": null,
            "margin": null,
            "max_height": null,
            "max_width": null,
            "min_height": null,
            "min_width": null,
            "object_fit": null,
            "object_position": null,
            "order": null,
            "overflow": null,
            "overflow_x": null,
            "overflow_y": null,
            "padding": null,
            "right": null,
            "top": null,
            "visibility": null,
            "width": null
          }
        },
        "4407f9e80f2d4de7b1d95712cf276a52": {
          "model_module": "@jupyter-widgets/controls",
          "model_name": "DescriptionStyleModel",
          "model_module_version": "1.5.0",
          "state": {
            "_model_module": "@jupyter-widgets/controls",
            "_model_module_version": "1.5.0",
            "_model_name": "DescriptionStyleModel",
            "_view_count": null,
            "_view_module": "@jupyter-widgets/base",
            "_view_module_version": "1.2.0",
            "_view_name": "StyleView",
            "description_width": ""
          }
        },
        "102064c296a1427db570b18d595a48cc": {
          "model_module": "@jupyter-widgets/controls",
          "model_name": "HBoxModel",
          "model_module_version": "1.5.0",
          "state": {
            "_dom_classes": [],
            "_model_module": "@jupyter-widgets/controls",
            "_model_module_version": "1.5.0",
            "_model_name": "HBoxModel",
            "_view_count": null,
            "_view_module": "@jupyter-widgets/controls",
            "_view_module_version": "1.5.0",
            "_view_name": "HBoxView",
            "box_style": "",
            "children": [
              "IPY_MODEL_2b9e37af607d4b6694437c75ed0c7c92",
              "IPY_MODEL_9144729fae6b4c5eb0f69f1a1766dbcf",
              "IPY_MODEL_d9ceeb51cf594677977248c6d5fa3341"
            ],
            "layout": "IPY_MODEL_2e4ae5700baf48139bb865f2f5ae42f2"
          }
        },
        "2b9e37af607d4b6694437c75ed0c7c92": {
          "model_module": "@jupyter-widgets/controls",
          "model_name": "HTMLModel",
          "model_module_version": "1.5.0",
          "state": {
            "_dom_classes": [],
            "_model_module": "@jupyter-widgets/controls",
            "_model_module_version": "1.5.0",
            "_model_name": "HTMLModel",
            "_view_count": null,
            "_view_module": "@jupyter-widgets/controls",
            "_view_module_version": "1.5.0",
            "_view_name": "HTMLView",
            "description": "",
            "description_tooltip": null,
            "layout": "IPY_MODEL_36d148bd0be6487a840261ae2982d93b",
            "placeholder": "​",
            "style": "IPY_MODEL_dcf3cf9494ec4a12a536fd0f39ab3708",
            "value": ""
          }
        },
        "9144729fae6b4c5eb0f69f1a1766dbcf": {
          "model_module": "@jupyter-widgets/controls",
          "model_name": "FloatProgressModel",
          "model_module_version": "1.5.0",
          "state": {
            "_dom_classes": [],
            "_model_module": "@jupyter-widgets/controls",
            "_model_module_version": "1.5.0",
            "_model_name": "FloatProgressModel",
            "_view_count": null,
            "_view_module": "@jupyter-widgets/controls",
            "_view_module_version": "1.5.0",
            "_view_name": "ProgressView",
            "bar_style": "success",
            "description": "",
            "description_tooltip": null,
            "layout": "IPY_MODEL_dafa7e0f9ab94a82aa3ac4eaf4d9ef18",
            "max": 5148,
            "min": 0,
            "orientation": "horizontal",
            "style": "IPY_MODEL_1a7670e71d9f467e836a1555b1a6f0d9",
            "value": 5148
          }
        },
        "d9ceeb51cf594677977248c6d5fa3341": {
          "model_module": "@jupyter-widgets/controls",
          "model_name": "HTMLModel",
          "model_module_version": "1.5.0",
          "state": {
            "_dom_classes": [],
            "_model_module": "@jupyter-widgets/controls",
            "_model_module_version": "1.5.0",
            "_model_name": "HTMLModel",
            "_view_count": null,
            "_view_module": "@jupyter-widgets/controls",
            "_view_module_version": "1.5.0",
            "_view_name": "HTMLView",
            "description": "",
            "description_tooltip": null,
            "layout": "IPY_MODEL_99d3dad7b43b4177a325c133409eb568",
            "placeholder": "​",
            "style": "IPY_MODEL_95562f25c03a47f483a2c569f6abd69e",
            "value": " 6144/? [00:00&lt;00:00, 154694.62it/s]"
          }
        },
        "2e4ae5700baf48139bb865f2f5ae42f2": {
          "model_module": "@jupyter-widgets/base",
          "model_name": "LayoutModel",
          "model_module_version": "1.2.0",
          "state": {
            "_model_module": "@jupyter-widgets/base",
            "_model_module_version": "1.2.0",
            "_model_name": "LayoutModel",
            "_view_count": null,
            "_view_module": "@jupyter-widgets/base",
            "_view_module_version": "1.2.0",
            "_view_name": "LayoutView",
            "align_content": null,
            "align_items": null,
            "align_self": null,
            "border": null,
            "bottom": null,
            "display": null,
            "flex": null,
            "flex_flow": null,
            "grid_area": null,
            "grid_auto_columns": null,
            "grid_auto_flow": null,
            "grid_auto_rows": null,
            "grid_column": null,
            "grid_gap": null,
            "grid_row": null,
            "grid_template_areas": null,
            "grid_template_columns": null,
            "grid_template_rows": null,
            "height": null,
            "justify_content": null,
            "justify_items": null,
            "left": null,
            "margin": null,
            "max_height": null,
            "max_width": null,
            "min_height": null,
            "min_width": null,
            "object_fit": null,
            "object_position": null,
            "order": null,
            "overflow": null,
            "overflow_x": null,
            "overflow_y": null,
            "padding": null,
            "right": null,
            "top": null,
            "visibility": null,
            "width": null
          }
        },
        "36d148bd0be6487a840261ae2982d93b": {
          "model_module": "@jupyter-widgets/base",
          "model_name": "LayoutModel",
          "model_module_version": "1.2.0",
          "state": {
            "_model_module": "@jupyter-widgets/base",
            "_model_module_version": "1.2.0",
            "_model_name": "LayoutModel",
            "_view_count": null,
            "_view_module": "@jupyter-widgets/base",
            "_view_module_version": "1.2.0",
            "_view_name": "LayoutView",
            "align_content": null,
            "align_items": null,
            "align_self": null,
            "border": null,
            "bottom": null,
            "display": null,
            "flex": null,
            "flex_flow": null,
            "grid_area": null,
            "grid_auto_columns": null,
            "grid_auto_flow": null,
            "grid_auto_rows": null,
            "grid_column": null,
            "grid_gap": null,
            "grid_row": null,
            "grid_template_areas": null,
            "grid_template_columns": null,
            "grid_template_rows": null,
            "height": null,
            "justify_content": null,
            "justify_items": null,
            "left": null,
            "margin": null,
            "max_height": null,
            "max_width": null,
            "min_height": null,
            "min_width": null,
            "object_fit": null,
            "object_position": null,
            "order": null,
            "overflow": null,
            "overflow_x": null,
            "overflow_y": null,
            "padding": null,
            "right": null,
            "top": null,
            "visibility": null,
            "width": null
          }
        },
        "dcf3cf9494ec4a12a536fd0f39ab3708": {
          "model_module": "@jupyter-widgets/controls",
          "model_name": "DescriptionStyleModel",
          "model_module_version": "1.5.0",
          "state": {
            "_model_module": "@jupyter-widgets/controls",
            "_model_module_version": "1.5.0",
            "_model_name": "DescriptionStyleModel",
            "_view_count": null,
            "_view_module": "@jupyter-widgets/base",
            "_view_module_version": "1.2.0",
            "_view_name": "StyleView",
            "description_width": ""
          }
        },
        "dafa7e0f9ab94a82aa3ac4eaf4d9ef18": {
          "model_module": "@jupyter-widgets/base",
          "model_name": "LayoutModel",
          "model_module_version": "1.2.0",
          "state": {
            "_model_module": "@jupyter-widgets/base",
            "_model_module_version": "1.2.0",
            "_model_name": "LayoutModel",
            "_view_count": null,
            "_view_module": "@jupyter-widgets/base",
            "_view_module_version": "1.2.0",
            "_view_name": "LayoutView",
            "align_content": null,
            "align_items": null,
            "align_self": null,
            "border": null,
            "bottom": null,
            "display": null,
            "flex": null,
            "flex_flow": null,
            "grid_area": null,
            "grid_auto_columns": null,
            "grid_auto_flow": null,
            "grid_auto_rows": null,
            "grid_column": null,
            "grid_gap": null,
            "grid_row": null,
            "grid_template_areas": null,
            "grid_template_columns": null,
            "grid_template_rows": null,
            "height": null,
            "justify_content": null,
            "justify_items": null,
            "left": null,
            "margin": null,
            "max_height": null,
            "max_width": null,
            "min_height": null,
            "min_width": null,
            "object_fit": null,
            "object_position": null,
            "order": null,
            "overflow": null,
            "overflow_x": null,
            "overflow_y": null,
            "padding": null,
            "right": null,
            "top": null,
            "visibility": null,
            "width": null
          }
        },
        "1a7670e71d9f467e836a1555b1a6f0d9": {
          "model_module": "@jupyter-widgets/controls",
          "model_name": "ProgressStyleModel",
          "model_module_version": "1.5.0",
          "state": {
            "_model_module": "@jupyter-widgets/controls",
            "_model_module_version": "1.5.0",
            "_model_name": "ProgressStyleModel",
            "_view_count": null,
            "_view_module": "@jupyter-widgets/base",
            "_view_module_version": "1.2.0",
            "_view_name": "StyleView",
            "bar_color": null,
            "description_width": ""
          }
        },
        "99d3dad7b43b4177a325c133409eb568": {
          "model_module": "@jupyter-widgets/base",
          "model_name": "LayoutModel",
          "model_module_version": "1.2.0",
          "state": {
            "_model_module": "@jupyter-widgets/base",
            "_model_module_version": "1.2.0",
            "_model_name": "LayoutModel",
            "_view_count": null,
            "_view_module": "@jupyter-widgets/base",
            "_view_module_version": "1.2.0",
            "_view_name": "LayoutView",
            "align_content": null,
            "align_items": null,
            "align_self": null,
            "border": null,
            "bottom": null,
            "display": null,
            "flex": null,
            "flex_flow": null,
            "grid_area": null,
            "grid_auto_columns": null,
            "grid_auto_flow": null,
            "grid_auto_rows": null,
            "grid_column": null,
            "grid_gap": null,
            "grid_row": null,
            "grid_template_areas": null,
            "grid_template_columns": null,
            "grid_template_rows": null,
            "height": null,
            "justify_content": null,
            "justify_items": null,
            "left": null,
            "margin": null,
            "max_height": null,
            "max_width": null,
            "min_height": null,
            "min_width": null,
            "object_fit": null,
            "object_position": null,
            "order": null,
            "overflow": null,
            "overflow_x": null,
            "overflow_y": null,
            "padding": null,
            "right": null,
            "top": null,
            "visibility": null,
            "width": null
          }
        },
        "95562f25c03a47f483a2c569f6abd69e": {
          "model_module": "@jupyter-widgets/controls",
          "model_name": "DescriptionStyleModel",
          "model_module_version": "1.5.0",
          "state": {
            "_model_module": "@jupyter-widgets/controls",
            "_model_module_version": "1.5.0",
            "_model_name": "DescriptionStyleModel",
            "_view_count": null,
            "_view_module": "@jupyter-widgets/base",
            "_view_module_version": "1.2.0",
            "_view_name": "StyleView",
            "description_width": ""
          }
        },
        "5fca9144c1ff4f24b0066b02fab9f056": {
          "model_module": "@jupyter-widgets/controls",
          "model_name": "VBoxModel",
          "model_module_version": "1.5.0",
          "state": {
            "_dom_classes": [
              "widget-interact"
            ],
            "_model_module": "@jupyter-widgets/controls",
            "_model_module_version": "1.5.0",
            "_model_name": "VBoxModel",
            "_view_count": null,
            "_view_module": "@jupyter-widgets/controls",
            "_view_module_version": "1.5.0",
            "_view_name": "VBoxView",
            "box_style": "",
            "children": [
              "IPY_MODEL_8c5dae81d83e4f3d95ec6acce6d867ab",
              "IPY_MODEL_7b92648992324d7c9d69f06879fd7ca1"
            ],
            "layout": "IPY_MODEL_965d0e6a833048ac951ef531d06a600d"
          }
        },
        "8c5dae81d83e4f3d95ec6acce6d867ab": {
          "model_module": "@jupyter-widgets/controls",
          "model_name": "IntSliderModel",
          "model_module_version": "1.5.0",
          "state": {
            "_dom_classes": [],
            "_model_module": "@jupyter-widgets/controls",
            "_model_module_version": "1.5.0",
            "_model_name": "IntSliderModel",
            "_view_count": null,
            "_view_module": "@jupyter-widgets/controls",
            "_view_module_version": "1.5.0",
            "_view_name": "IntSliderView",
            "continuous_update": true,
            "description": "Image index",
            "description_tooltip": null,
            "disabled": false,
            "layout": "IPY_MODEL_6574cd58d1d04c95979ed94be0a9dcb8",
            "max": 9999,
            "min": 0,
            "orientation": "horizontal",
            "readout": true,
            "readout_format": "d",
            "step": 1,
            "style": "IPY_MODEL_59a8feab8df1446287137cfd07a3b590",
            "value": 4774
          }
        },
        "7b92648992324d7c9d69f06879fd7ca1": {
          "model_module": "@jupyter-widgets/output",
          "model_name": "OutputModel",
          "model_module_version": "1.0.0",
          "state": {
            "_dom_classes": [],
            "_model_module": "@jupyter-widgets/output",
            "_model_module_version": "1.0.0",
            "_model_name": "OutputModel",
            "_view_count": null,
            "_view_module": "@jupyter-widgets/output",
            "_view_module_version": "1.0.0",
            "_view_name": "OutputView",
            "layout": "IPY_MODEL_9ae69af611fd440f9268c8b694910f60",
            "msg_id": "",
            "outputs": [
              {
                "output_type": "display_data",
                "data": {
                  "text/plain": "<Figure size 864x432 with 2 Axes>",
                  "image/png": "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\n"
                },
                "metadata": {
                  "needs_background": "light"
                }
              }
            ]
          }
        },
        "965d0e6a833048ac951ef531d06a600d": {
          "model_module": "@jupyter-widgets/base",
          "model_name": "LayoutModel",
          "model_module_version": "1.2.0",
          "state": {
            "_model_module": "@jupyter-widgets/base",
            "_model_module_version": "1.2.0",
            "_model_name": "LayoutModel",
            "_view_count": null,
            "_view_module": "@jupyter-widgets/base",
            "_view_module_version": "1.2.0",
            "_view_name": "LayoutView",
            "align_content": null,
            "align_items": null,
            "align_self": null,
            "border": null,
            "bottom": null,
            "display": null,
            "flex": null,
            "flex_flow": null,
            "grid_area": null,
            "grid_auto_columns": null,
            "grid_auto_flow": null,
            "grid_auto_rows": null,
            "grid_column": null,
            "grid_gap": null,
            "grid_row": null,
            "grid_template_areas": null,
            "grid_template_columns": null,
            "grid_template_rows": null,
            "height": null,
            "justify_content": null,
            "justify_items": null,
            "left": null,
            "margin": null,
            "max_height": null,
            "max_width": null,
            "min_height": null,
            "min_width": null,
            "object_fit": null,
            "object_position": null,
            "order": null,
            "overflow": null,
            "overflow_x": null,
            "overflow_y": null,
            "padding": null,
            "right": null,
            "top": null,
            "visibility": null,
            "width": null
          }
        },
        "6574cd58d1d04c95979ed94be0a9dcb8": {
          "model_module": "@jupyter-widgets/base",
          "model_name": "LayoutModel",
          "model_module_version": "1.2.0",
          "state": {
            "_model_module": "@jupyter-widgets/base",
            "_model_module_version": "1.2.0",
            "_model_name": "LayoutModel",
            "_view_count": null,
            "_view_module": "@jupyter-widgets/base",
            "_view_module_version": "1.2.0",
            "_view_name": "LayoutView",
            "align_content": null,
            "align_items": null,
            "align_self": null,
            "border": null,
            "bottom": null,
            "display": null,
            "flex": null,
            "flex_flow": null,
            "grid_area": null,
            "grid_auto_columns": null,
            "grid_auto_flow": null,
            "grid_auto_rows": null,
            "grid_column": null,
            "grid_gap": null,
            "grid_row": null,
            "grid_template_areas": null,
            "grid_template_columns": null,
            "grid_template_rows": null,
            "height": null,
            "justify_content": null,
            "justify_items": null,
            "left": null,
            "margin": null,
            "max_height": null,
            "max_width": null,
            "min_height": null,
            "min_width": null,
            "object_fit": null,
            "object_position": null,
            "order": null,
            "overflow": null,
            "overflow_x": null,
            "overflow_y": null,
            "padding": null,
            "right": null,
            "top": null,
            "visibility": null,
            "width": "100%"
          }
        },
        "59a8feab8df1446287137cfd07a3b590": {
          "model_module": "@jupyter-widgets/controls",
          "model_name": "SliderStyleModel",
          "model_module_version": "1.5.0",
          "state": {
            "_model_module": "@jupyter-widgets/controls",
            "_model_module_version": "1.5.0",
            "_model_name": "SliderStyleModel",
            "_view_count": null,
            "_view_module": "@jupyter-widgets/base",
            "_view_module_version": "1.2.0",
            "_view_name": "StyleView",
            "description_width": "",
            "handle_color": null
          }
        },
        "9ae69af611fd440f9268c8b694910f60": {
          "model_module": "@jupyter-widgets/base",
          "model_name": "LayoutModel",
          "model_module_version": "1.2.0",
          "state": {
            "_model_module": "@jupyter-widgets/base",
            "_model_module_version": "1.2.0",
            "_model_name": "LayoutModel",
            "_view_count": null,
            "_view_module": "@jupyter-widgets/base",
            "_view_module_version": "1.2.0",
            "_view_name": "LayoutView",
            "align_content": null,
            "align_items": null,
            "align_self": null,
            "border": null,
            "bottom": null,
            "display": null,
            "flex": null,
            "flex_flow": null,
            "grid_area": null,
            "grid_auto_columns": null,
            "grid_auto_flow": null,
            "grid_auto_rows": null,
            "grid_column": null,
            "grid_gap": null,
            "grid_row": null,
            "grid_template_areas": null,
            "grid_template_columns": null,
            "grid_template_rows": null,
            "height": null,
            "justify_content": null,
            "justify_items": null,
            "left": null,
            "margin": null,
            "max_height": null,
            "max_width": null,
            "min_height": null,
            "min_width": null,
            "object_fit": null,
            "object_position": null,
            "order": null,
            "overflow": null,
            "overflow_x": null,
            "overflow_y": null,
            "padding": null,
            "right": null,
            "top": null,
            "visibility": null,
            "width": null
          }
        }
      }
    }
  },
  "cells": [
    {
      "cell_type": "markdown",
      "metadata": {
        "id": "view-in-github",
        "colab_type": "text"
      },
      "source": [
        "<a href=\"https://colab.research.google.com/github/kuanhuang54/Machine-Learning/blob/main/3_Dress_Types_Prediction.ipynb\" target=\"_parent\"><img src=\"https://colab.research.google.com/assets/colab-badge.svg\" alt=\"Open In Colab\"/></a>"
      ]
    },
    {
      "cell_type": "code",
      "execution_count": null,
      "metadata": {
        "id": "RxlYZjLoVuKY"
      },
      "outputs": [],
      "source": [
        "# import the necessary libraries\n",
        "import math\n",
        "import torch\n",
        "from torch.utils.data import DataLoader #Dataset\n",
        "from torchvision import datasets\n",
        "from torchvision.transforms import Compose, ToTensor\n",
        "from torch import nn, optim\n",
        "import matplotlib.pyplot as plt\n",
        "from ipywidgets import widgets, interact, Layout"
      ]
    },
    {
      "cell_type": "code",
      "source": [
        "# displays output inline\n",
        "%matplotlib inline"
      ],
      "metadata": {
        "id": "y8vhK6POdMiN"
      },
      "execution_count": null,
      "outputs": []
    },
    {
      "cell_type": "markdown",
      "source": [
        "##Design and train a basic neural network on the FashionMNIST dataset to predict Dress Types using PyTorch"
      ],
      "metadata": {
        "id": "b_HYoHOqsESw"
      }
    },
    {
      "cell_type": "code",
      "source": [
        "# train model on a hardware accelerator like the GPU if it is available, otherwise continue to use the CPU\n",
        "for index in range(torch.cuda.device_count()):\n",
        "  print(torch.cuda.get_device_properties(index))"
      ],
      "metadata": {
        "id": "SAKjWC_coRPL"
      },
      "execution_count": null,
      "outputs": []
    },
    {
      "cell_type": "markdown",
      "source": [
        "# Data Preprocessing"
      ],
      "metadata": {
        "id": "yqqMTXbWfJUy"
      }
    },
    {
      "cell_type": "code",
      "source": [
        "# use FashionMNIST dataset published by Zalando Research\n",
        "data_train = datasets.FashionMNIST(root='data', train=True, download=True, transform=ToTensor()) # =Compose([ToTensor()])\n",
        "data_test = datasets.FashionMNIST(root='data', train=False, download=True, transform=ToTensor()) # =Compose([ToTensor()])\n",
        "batch = 60\n",
        "load_train = DataLoader(data_train, batch_size=batch, shuffle=True)\n",
        "load_test = DataLoader(data_test, batch_size=batch, shuffle=True)"
      ],
      "metadata": {
        "id": "-OKMvQL8ZPAz",
        "colab": {
          "base_uri": "https://localhost:8080/",
          "height": 423,
          "referenced_widgets": [
            "ef3b306510dd4bba9bddd216fb736643",
            "0de6cf0a89734846b614bde9b1e91638",
            "d8da213517fc4b948a7cd9ac424e05e2",
            "1c79c5b2a0c748489ef45c7b3b51b301",
            "2f39aed5e4ec49adb927666f33c78f58",
            "421903f91f174fdaa96fdd28c7eb70ce",
            "138d4922167c482b88148c1b0e1062ef",
            "a2ab8fbc17b84115acedf052d9ec0a67",
            "e1771c8750a643c59d155ea8fbc050c2",
            "9ac566750bc84355be4bd56a32595a04",
            "37b5a18aaeca4da5b47425be5fc9e2cb",
            "26e9208153a6443090f3b5864b9b1623",
            "768f7c0a618641578f02625b6860b036",
            "a8db3793ef214b41b51f5cb4aebba78b",
            "68919c85097041fca6cfc054501a4e09",
            "1becc33d627440318216307cf601433b",
            "f51b2362f3e945b590120d06e832ce2a",
            "505f6d5deda34c6c82a1b3941f090c67",
            "819e3516f90e477bb91fdcd0920913c5",
            "51b554ceb32440c38214e6587279be0e",
            "e7e65d817b2b4ed7833b0c5cac790649",
            "e3e093750ead4927bb74f9043e78944d",
            "5d86120e2fc34b09804c458c5e245d7d",
            "0328ba219f6848edb27d798917577cc2",
            "024b3a46c4ca46d596d8052e8c2b97dd",
            "cbf163285f9f4c768c3ae521196abe08",
            "35e5d8dd7f4542fab0545a864ecdfaa9",
            "12d847377e244148ac762be203023f05",
            "30457c0d03a3403983018fc2cf3592f1",
            "6b37ea174225481d9d4ecb4019efed00",
            "008da6cb54cf477aab94a21490493d82",
            "a7713c9d32a145d69e6e0fce241bc66e",
            "4407f9e80f2d4de7b1d95712cf276a52",
            "102064c296a1427db570b18d595a48cc",
            "2b9e37af607d4b6694437c75ed0c7c92",
            "9144729fae6b4c5eb0f69f1a1766dbcf",
            "d9ceeb51cf594677977248c6d5fa3341",
            "2e4ae5700baf48139bb865f2f5ae42f2",
            "36d148bd0be6487a840261ae2982d93b",
            "dcf3cf9494ec4a12a536fd0f39ab3708",
            "dafa7e0f9ab94a82aa3ac4eaf4d9ef18",
            "1a7670e71d9f467e836a1555b1a6f0d9",
            "99d3dad7b43b4177a325c133409eb568",
            "95562f25c03a47f483a2c569f6abd69e"
          ]
        },
        "outputId": "f2f893ef-371b-4f9e-bb88-eadf71b0d0ea"
      },
      "execution_count": null,
      "outputs": [
        {
          "output_type": "stream",
          "name": "stdout",
          "text": [
            "Downloading http://fashion-mnist.s3-website.eu-central-1.amazonaws.com/train-images-idx3-ubyte.gz\n",
            "Downloading http://fashion-mnist.s3-website.eu-central-1.amazonaws.com/train-images-idx3-ubyte.gz to data/FashionMNIST/raw/train-images-idx3-ubyte.gz\n"
          ]
        },
        {
          "output_type": "display_data",
          "data": {
            "text/plain": [
              "  0%|          | 0/26421880 [00:00<?, ?it/s]"
            ],
            "application/vnd.jupyter.widget-view+json": {
              "version_major": 2,
              "version_minor": 0,
              "model_id": "ef3b306510dd4bba9bddd216fb736643"
            }
          },
          "metadata": {}
        },
        {
          "output_type": "stream",
          "name": "stdout",
          "text": [
            "Extracting data/FashionMNIST/raw/train-images-idx3-ubyte.gz to data/FashionMNIST/raw\n",
            "\n",
            "Downloading http://fashion-mnist.s3-website.eu-central-1.amazonaws.com/train-labels-idx1-ubyte.gz\n",
            "Downloading http://fashion-mnist.s3-website.eu-central-1.amazonaws.com/train-labels-idx1-ubyte.gz to data/FashionMNIST/raw/train-labels-idx1-ubyte.gz\n"
          ]
        },
        {
          "output_type": "display_data",
          "data": {
            "text/plain": [
              "  0%|          | 0/29515 [00:00<?, ?it/s]"
            ],
            "application/vnd.jupyter.widget-view+json": {
              "version_major": 2,
              "version_minor": 0,
              "model_id": "26e9208153a6443090f3b5864b9b1623"
            }
          },
          "metadata": {}
        },
        {
          "output_type": "stream",
          "name": "stdout",
          "text": [
            "Extracting data/FashionMNIST/raw/train-labels-idx1-ubyte.gz to data/FashionMNIST/raw\n",
            "\n",
            "Downloading http://fashion-mnist.s3-website.eu-central-1.amazonaws.com/t10k-images-idx3-ubyte.gz\n",
            "Downloading http://fashion-mnist.s3-website.eu-central-1.amazonaws.com/t10k-images-idx3-ubyte.gz to data/FashionMNIST/raw/t10k-images-idx3-ubyte.gz\n"
          ]
        },
        {
          "output_type": "display_data",
          "data": {
            "text/plain": [
              "  0%|          | 0/4422102 [00:00<?, ?it/s]"
            ],
            "application/vnd.jupyter.widget-view+json": {
              "version_major": 2,
              "version_minor": 0,
              "model_id": "5d86120e2fc34b09804c458c5e245d7d"
            }
          },
          "metadata": {}
        },
        {
          "output_type": "stream",
          "name": "stdout",
          "text": [
            "Extracting data/FashionMNIST/raw/t10k-images-idx3-ubyte.gz to data/FashionMNIST/raw\n",
            "\n",
            "Downloading http://fashion-mnist.s3-website.eu-central-1.amazonaws.com/t10k-labels-idx1-ubyte.gz\n",
            "Downloading http://fashion-mnist.s3-website.eu-central-1.amazonaws.com/t10k-labels-idx1-ubyte.gz to data/FashionMNIST/raw/t10k-labels-idx1-ubyte.gz\n"
          ]
        },
        {
          "output_type": "display_data",
          "data": {
            "text/plain": [
              "  0%|          | 0/5148 [00:00<?, ?it/s]"
            ],
            "application/vnd.jupyter.widget-view+json": {
              "version_major": 2,
              "version_minor": 0,
              "model_id": "102064c296a1427db570b18d595a48cc"
            }
          },
          "metadata": {}
        },
        {
          "output_type": "stream",
          "name": "stdout",
          "text": [
            "Extracting data/FashionMNIST/raw/t10k-labels-idx1-ubyte.gz to data/FashionMNIST/raw\n",
            "\n"
          ]
        }
      ]
    },
    {
      "cell_type": "code",
      "source": [
        "# 60,000 training images, each image is a grayscale image with size 28x28 pixels\n",
        "# 10,000 testing images, each image is a grayscale image with size 28x28 pixels\n",
        "data_train.data.shape, data_train.targets.shape, data_train.targets.bincount(), data_test.data.shape, data_test.targets.shape, data_test.targets.bincount()"
      ],
      "metadata": {
        "colab": {
          "base_uri": "https://localhost:8080/"
        },
        "id": "Huo1DgYHZmEs",
        "outputId": "95121b9b-421b-43f0-a1ec-37457b3cf8f4"
      },
      "execution_count": null,
      "outputs": [
        {
          "output_type": "execute_result",
          "data": {
            "text/plain": [
              "(torch.Size([60000, 28, 28]),\n",
              " torch.Size([60000]),\n",
              " tensor([6000, 6000, 6000, 6000, 6000, 6000, 6000, 6000, 6000, 6000]),\n",
              " torch.Size([10000, 28, 28]),\n",
              " torch.Size([10000]),\n",
              " tensor([1000, 1000, 1000, 1000, 1000, 1000, 1000, 1000, 1000, 1000]))"
            ]
          },
          "metadata": {},
          "execution_count": 7
        }
      ]
    },
    {
      "cell_type": "code",
      "source": [
        "# ten categories from 0 to 9\n",
        "data_train.classes, data_test.classes"
      ],
      "metadata": {
        "colab": {
          "base_uri": "https://localhost:8080/"
        },
        "id": "TbMB1jCuNIfy",
        "outputId": "caa64b6b-0efd-4416-cf88-98976f884ddb"
      },
      "execution_count": null,
      "outputs": [
        {
          "output_type": "execute_result",
          "data": {
            "text/plain": [
              "(['T-shirt/top',\n",
              "  'Trouser',\n",
              "  'Pullover',\n",
              "  'Dress',\n",
              "  'Coat',\n",
              "  'Sandal',\n",
              "  'Shirt',\n",
              "  'Sneaker',\n",
              "  'Bag',\n",
              "  'Ankle boot'],\n",
              " ['T-shirt/top',\n",
              "  'Trouser',\n",
              "  'Pullover',\n",
              "  'Dress',\n",
              "  'Coat',\n",
              "  'Sandal',\n",
              "  'Shirt',\n",
              "  'Sneaker',\n",
              "  'Bag',\n",
              "  'Ankle boot'])"
            ]
          },
          "metadata": {},
          "execution_count": 8
        }
      ]
    },
    {
      "cell_type": "code",
      "source": [
        "# scale the values between 0 and 1 for both training and testing sets\n",
        "data_train.data = data_train.data / 255.0\n",
        "data_test.data = data_test.data / 255.0"
      ],
      "metadata": {
        "id": "2OwxA5Pr680v"
      },
      "execution_count": null,
      "outputs": []
    },
    {
      "cell_type": "markdown",
      "source": [
        "# Training Set"
      ],
      "metadata": {
        "id": "X0ylHGcLk3hE"
      }
    },
    {
      "cell_type": "code",
      "source": [
        "# plot a grid of images with titles of correct names and labels of predicted names\n",
        "def plot(images, labels, predictions=None):\n",
        "  # create a grid with 10 columns\n",
        "  n_cols = min(10, len(images))\n",
        "  n_rows = math.ceil(len(images) / n_cols)\n",
        "  fig, axes = plt.subplots(n_rows, n_cols, figsize=(n_cols + 3, n_rows))\n",
        "  if predictions is None:\n",
        "    predictions = [None] * len(labels)\n",
        "  for index, (x, y_true, y_pred) in enumerate(zip(images, labels, predictions)):\n",
        "    ax = axes.flat[index]\n",
        "    ax.imshow(x, cmap=plt.cm.binary)\n",
        "    ax.set_title(data_train.classes[y_true])\n",
        "    if y_pred is not None:\n",
        "      ax.set_xlabel(data_train.classes[y_pred])\n",
        "    ax.set_xticks([])\n",
        "    ax.set_yticks([])\n",
        "# plot first 20 images\n",
        "plot(data_train.data[:20], data_train.targets[:20])"
      ],
      "metadata": {
        "colab": {
          "base_uri": "https://localhost:8080/",
          "height": 159
        },
        "id": "fxif33i8axBb",
        "outputId": "a03e1e84-6178-4b4f-f652-4b2cc9d55bf7"
      },
      "execution_count": null,
      "outputs": [
        {
          "output_type": "display_data",
          "data": {
            "text/plain": [
              "<Figure size 936x144 with 20 Axes>"
            ],
            "image/png": "[encoded data removed]"
          },
          "metadata": {}
        }
      ]
    },
    {
      "cell_type": "markdown",
      "source": [
        "# Model in PyTorch"
      ],
      "metadata": {
        "id": "2M7luzSclfeA"
      }
    },
    {
      "cell_type": "code",
      "source": [
        "# create a sequential model of one hidden layer\n",
        "input_size = 28 * 28\n",
        "hidden_size = 128\n",
        "output_size = 10\n",
        "model = nn.Sequential(\n",
        "  nn.Linear(input_size, hidden_size), # apply linear transformation to hidden = input A^T + b\n",
        "  nn.ReLU(), # apply the rectified linear unit function element-wise\n",
        "  nn.Linear(hidden_size, output_size), # apply linear transformation to output = hidden A^T + b\n",
        "  nn.Softmax(dim=1)) # apply the dimensional output Tensor within the range [0,1] and sum to 1\n",
        "print(model)"
      ],
      "metadata": {
        "colab": {
          "base_uri": "https://localhost:8080/"
        },
        "id": "W41QohEpa6e-",
        "outputId": "dc03ae33-bee6-48b3-9784-91ef870bdee0"
      },
      "execution_count": null,
      "outputs": [
        {
          "output_type": "stream",
          "name": "stdout",
          "text": [
            "Sequential(\n",
            "  (0): Linear(in_features=784, out_features=128, bias=True)\n",
            "  (1): ReLU()\n",
            "  (2): Linear(in_features=128, out_features=10, bias=True)\n",
            "  (3): Softmax(dim=1)\n",
            ")\n"
          ]
        }
      ]
    },
    {
      "cell_type": "code",
      "source": [
        "# train the model\n",
        "torch.manual_seed(20742)\n",
        "learning_rate = 0.001\n",
        "optimizer = optim.Adam(model.parameters(), lr=learning_rate) # implement Adam algorithm with learning rate\n",
        "error = nn.CrossEntropyLoss() # this criterion computes the cross entropy loss between input and target\n",
        "epochs = 10\n",
        "for epoch in range(epochs):\n",
        "  running_loss = 0\n",
        "  for images, labels in load_train:\n",
        "    train = images.view(images.shape[0], -1) # flatten image into a 784 vector\n",
        "    outputs = model(train)\n",
        "    loss = error(outputs, labels)\n",
        "    optimizer.zero_grad() # training pass\n",
        "    loss.backward() # learn by backpropagation\n",
        "    optimizer.step() # optimize weights\n",
        "    running_loss += loss.item()\n",
        "  else:\n",
        "    total = 0\n",
        "    correct = 0\n",
        "    for images, labels in load_train:\n",
        "      train = images.view(images.shape[0], -1) # flatten image into a 784 vector\n",
        "      outputs = model(train)\n",
        "      predictions = torch.max(outputs, 1)[1]\n",
        "      correct += (predictions == labels).sum()\n",
        "      total += len(labels)\n",
        "    print(f'Epoch {epoch + 1}/{epochs} - loss: {running_loss / total} - accuracy: {correct / total}')"
      ],
      "metadata": {
        "colab": {
          "base_uri": "https://localhost:8080/"
        },
        "id": "Vzi5hjYYA80Y",
        "outputId": "6802ed3d-9823-4010-8644-a06d7133694d"
      },
      "execution_count": null,
      "outputs": [
        {
          "output_type": "stream",
          "name": "stdout",
          "text": [
            "Epoch 1/10 - loss: 0.031151907690366108 - accuracy: 0.663100004196167\n",
            "Epoch 2/10 - loss: 0.030020802398522693 - accuracy: 0.6788166761398315\n",
            "Epoch 3/10 - loss: 0.02979762391646703 - accuracy: 0.6788166761398315\n",
            "Epoch 4/10 - loss: 0.029681116578976312 - accuracy: 0.6874666810035706\n",
            "Epoch 5/10 - loss: 0.029575378257036208 - accuracy: 0.6968666911125183\n",
            "Epoch 6/10 - loss: 0.029477685221036276 - accuracy: 0.7020999789237976\n",
            "Epoch 7/10 - loss: 0.02939418656627337 - accuracy: 0.6931333541870117\n",
            "Epoch 8/10 - loss: 0.029338520514965057 - accuracy: 0.7109333276748657\n",
            "Epoch 9/10 - loss: 0.029283787365754446 - accuracy: 0.7158833146095276\n",
            "Epoch 10/10 - loss: 0.029207984670003254 - accuracy: 0.7097833156585693\n"
          ]
        }
      ]
    },
    {
      "cell_type": "code",
      "source": [
        "# save the model\n",
        "torch.save(model, './Act6_Huang_Kuan_model.pt') "
      ],
      "metadata": {
        "id": "rkQMPNExE0aw"
      },
      "execution_count": null,
      "outputs": []
    },
    {
      "cell_type": "markdown",
      "source": [
        "# Testing Set"
      ],
      "metadata": {
        "id": "1Pz2Tuctln2L"
      }
    },
    {
      "cell_type": "code",
      "source": [
        "count = 0\n",
        "correct = 0\n",
        "for images, labels in load_test:\n",
        "  test = images.view(images.shape[0], -1) # flatten image into a 784 vector\n",
        "  with torch.no_grad():\n",
        "    probs = model(test)\n",
        "    preds = torch.max(probs, 1)[1]\n",
        "  correct += (preds == labels).sum()\n",
        "  count += len(labels)\n",
        "print(f'Tested {count} images - accuracy: {correct / count}')"
      ],
      "metadata": {
        "colab": {
          "base_uri": "https://localhost:8080/"
        },
        "id": "YYdfUYTGZ5d8",
        "outputId": "ac3b55c9-6a44-46e0-8766-0b063bcf1760"
      },
      "execution_count": null,
      "outputs": [
        {
          "output_type": "stream",
          "name": "stdout",
          "text": [
            "Tested 10000 images - accuracy: 0.6762999892234802\n"
          ]
        }
      ]
    },
    {
      "cell_type": "code",
      "source": [
        "count = 0\n",
        "correct = 0\n",
        "for image, label in data_test:\n",
        "  test = image.view(1, 784) # flatten image into a 784 vector\n",
        "  with torch.no_grad():\n",
        "    probs = model(test)\n",
        "    pred = probs.argmax(1)\n",
        "  if (pred == label):\n",
        "    correct += 1\n",
        "  count += 1\n",
        "print(f'Tested {count} images - accuracy: {correct / count}')"
      ],
      "metadata": {
        "colab": {
          "base_uri": "https://localhost:8080/"
        },
        "id": "wihUpJF7bucu",
        "outputId": "ee276439-d052-4243-c6ec-47fd7cad5bae"
      },
      "execution_count": null,
      "outputs": [
        {
          "output_type": "stream",
          "name": "stdout",
          "text": [
            "Tested 10000 images - accuracy: 0.6763\n"
          ]
        }
      ]
    },
    {
      "cell_type": "markdown",
      "source": [
        "# Application"
      ],
      "metadata": {
        "id": "VHj5RPEzmoCT"
      }
    },
    {
      "cell_type": "code",
      "source": [
        "img_idx_slider = widgets.IntSlider(value=0, min=0, max=len(data_test) - 1, description='Image index', layout=Layout(width='100%'))\n",
        "@interact(index=img_idx_slider)\n",
        "def visualize_prediction(index=0):\n",
        "  image, label = data_test[index]\n",
        "  test = image.view(1, 28 * 28)\n",
        "  with torch.no_grad():\n",
        "    probs = model(test)\n",
        "  pred = probs.argmax(1).item()\n",
        "  fix, (ax1, ax2) = plt.subplots(1, 2, figsize=(12, 6))\n",
        "  ax1.imshow(data_test.data[index], cmap=plt.cm.binary)\n",
        "  ax1.set_title(f'Label: {data_test.classes[data_test.targets[index]]}')\n",
        "  ax1.set_xlabel(f'Predict: {data_test.classes[pred]}')\n",
        "  ax1.set_ylabel('Pixel location index')\n",
        "  ax1.set_xticks(range(28))\n",
        "  ax1.set_yticks(range(28))\n",
        "  ax1.xaxis.tick_top()\n",
        "  ax1.tick_params(axis='x', labelrotation=90)\n",
        "  ax2.bar(x=data_test.classes, height=probs[0]*100)\n",
        "  ax2.set_xlabel('Prediction')\n",
        "  ax2.set_ylabel('Probability (%)')\n",
        "  ax2.set_ylim(0, 100)\n",
        "  ax2.tick_params(axis='x', labelrotation=90)"
      ],
      "metadata": {
        "colab": {
          "base_uri": "https://localhost:8080/",
          "height": 488,
          "referenced_widgets": [
            "5fca9144c1ff4f24b0066b02fab9f056",
            "8c5dae81d83e4f3d95ec6acce6d867ab",
            "7b92648992324d7c9d69f06879fd7ca1",
            "965d0e6a833048ac951ef531d06a600d",
            "6574cd58d1d04c95979ed94be0a9dcb8",
            "59a8feab8df1446287137cfd07a3b590",
            "9ae69af611fd440f9268c8b694910f60"
          ]
        },
        "id": "CU5WlAFbr2-z",
        "outputId": "129a8b2e-16c6-455d-e00e-4cd68e5bc54c"
      },
      "execution_count": null,
      "outputs": [
        {
          "output_type": "display_data",
          "data": {
            "text/plain": [
              "interactive(children=(IntSlider(value=0, description='Image index', layout=Layout(width='100%'), max=9999), Ou…"
            ],
            "application/vnd.jupyter.widget-view+json": {
              "version_major": 2,
              "version_minor": 0,
              "model_id": "5fca9144c1ff4f24b0066b02fab9f056"
            }
          },
          "metadata": {}
        }
      ]
    },
    {
      "cell_type": "code",
      "source": [
        ""
      ],
      "metadata": {
        "id": "muHLQC4bJtI9"
      },
      "execution_count": null,
      "outputs": []
    }
  ]
}